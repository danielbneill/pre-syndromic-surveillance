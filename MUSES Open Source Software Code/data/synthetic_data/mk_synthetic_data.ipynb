{
 "cells": [
  {
   "cell_type": "code",
   "execution_count": 1,
   "id": "f6a8b9bc",
   "metadata": {},
   "outputs": [],
   "source": [
    "import numpy as np\n",
    "import pandas as pd"
   ]
  },
  {
   "cell_type": "code",
   "execution_count": 2,
   "id": "750d574f",
   "metadata": {},
   "outputs": [],
   "source": [
    "icd_text_strings = pd.read_csv(\"icd9_complaints.csv\")['description']\n",
    "age_cats = pd.Series(['00-17','18-64','65-99'])\n",
    "hosps = pd.Series(['A','B','C'])\n",
    "event_text_strings = pd.Series(['zombie attack','zombie bite','chased by zombies','bitten by zombie','a zombie tried to eat me',\n",
    "                               'a zombie tried to eat my brain','attacked by zombies','mauled by zombies','brains','zombies',\n",
    "                               'a zombie chased me and tried to eat my brain','a zombie attacked me and tried to eat my brain',\n",
    "                               'attacked and bitten by zombies','bite wound from zombie attack'])\n",
    "event_age_cats = pd.Series(['18-64','65-99'])\n",
    "event_hosp_list = pd.Series(['B'])"
   ]
  },
  {
   "cell_type": "code",
   "execution_count": 3,
   "id": "0f0de66e",
   "metadata": {},
   "outputs": [],
   "source": [
    "start = pd.to_datetime('2021-01-01')\n",
    "end = pd.to_datetime('2021-12-31')\n",
    "n=10000\n",
    "\n",
    "background_dates = pd.date_range(start, end).to_series().sample(n, replace=True, ignore_index=True)\n",
    "background_times = pd.Series(pd.date_range(\"00:00\", \"23:59\", freq=\"1min\").time).sample(n,replace=True,ignore_index=True)\n",
    "background_ages = age_cats.sample(n,replace=True,ignore_index=True)\n",
    "background_hospitals = hosps.sample(n,replace=True,ignore_index=True)\n",
    "background_complaints = icd_text_strings.sample(n,replace=True,ignore_index=True)\n",
    "\n",
    "background_data = pd.DataFrame(data={'date':background_dates,\n",
    "                                     'time':background_times,\n",
    "                                     'hospcode':background_hospitals,\n",
    "                                     'agegroup':background_ages,\n",
    "                                     'cc':background_complaints})\n",
    "background_data.to_csv(\"synthetic_data_2021.csv\",index=False,date_format='%m/%d/%y')"
   ]
  },
  {
   "cell_type": "code",
   "execution_count": 4,
   "id": "b99758d8",
   "metadata": {},
   "outputs": [],
   "source": [
    "start = pd.to_datetime('2022-01-01')\n",
    "end = pd.to_datetime('2022-01-31')\n",
    "n=1000\n",
    "\n",
    "foreground_dates = pd.date_range(start, end).to_series().sample(n, replace=True, ignore_index=True)\n",
    "foreground_times = pd.Series(pd.date_range(\"00:00\", \"23:59\", freq=\"1min\").time).sample(n,replace=True,ignore_index=True)\n",
    "foreground_ages = age_cats.sample(n,replace=True,ignore_index=True)\n",
    "foreground_hospitals = hosps.sample(n,replace=True,ignore_index=True)\n",
    "foreground_complaints = icd_text_strings.sample(n,replace=True,ignore_index=True)\n",
    "\n",
    "foreground_data = pd.DataFrame(data={'date':foreground_dates,\n",
    "                                     'time':foreground_times,\n",
    "                                     'hospcode':foreground_hospitals,\n",
    "                                     'agegroup':foreground_ages,\n",
    "                                     'cc':foreground_complaints})"
   ]
  },
  {
   "cell_type": "code",
   "execution_count": 5,
   "id": "1167cd19",
   "metadata": {},
   "outputs": [],
   "source": [
    "# generate a synthetic event of public health concern\n",
    "start = pd.to_datetime('2022-01-30')\n",
    "end = pd.to_datetime('2022-01-30')\n",
    "n=50\n",
    "\n",
    "event_dates = pd.date_range(start, end).to_series().sample(n, replace=True, ignore_index=True)\n",
    "event_times = pd.Series(pd.date_range(\"06:30\", \"07:59\", freq=\"1min\").time).sample(n,replace=True,ignore_index=True)\n",
    "event_ages = event_age_cats.sample(n,replace=True,ignore_index=True)\n",
    "event_hospitals = event_hosp_list.sample(n,replace=True,ignore_index=True)\n",
    "event_complaints = event_text_strings.sample(n,replace=True,ignore_index=True)\n",
    "event_data = pd.DataFrame(data={'date':event_dates,\n",
    "                                'time':event_times,\n",
    "                                'hospcode':event_hospitals,\n",
    "                                'agegroup':event_ages,\n",
    "                                'cc':event_complaints})\n",
    "\n",
    "foreground_data = pd.concat([foreground_data,event_data],ignore_index=True).sort_values(by=['date','time'],ignore_index=True)\n",
    "foreground_data.to_csv(\"synthetic_data_Jan_2022.csv\",index=False,date_format='%m/%d/%y')"
   ]
  },
  {
   "cell_type": "code",
   "execution_count": null,
   "id": "991ecd7f",
   "metadata": {},
   "outputs": [],
   "source": []
  }
 ],
 "metadata": {
  "kernelspec": {
   "display_name": "Python 3 (ipykernel)",
   "language": "python",
   "name": "python3"
  },
  "language_info": {
   "codemirror_mode": {
    "name": "ipython",
    "version": 3
   },
   "file_extension": ".py",
   "mimetype": "text/x-python",
   "name": "python",
   "nbconvert_exporter": "python",
   "pygments_lexer": "ipython3",
   "version": "3.9.12"
  }
 },
 "nbformat": 4,
 "nbformat_minor": 5
}
